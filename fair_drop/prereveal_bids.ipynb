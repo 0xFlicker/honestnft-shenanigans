{
 "cells": [
  {
   "cell_type": "code",
   "execution_count": 1,
   "id": "e867edbc-c0f7-4826-8e05-bf2bf7e1ce09",
   "metadata": {
    "tags": [
     "parameters"
    ]
   },
   "outputs": [],
   "source": [
    "\"\"\"\n",
    "Update Parameters Here\n",
    "\"\"\"\n",
    "COLLECTION = \"MekaVerse\"\n",
    "CONTRACT = \"0x9A534628B4062E123cE7Ee2222ec20B86e16Ca8F\"\n",
    "YEAR = \"2021\"\n",
    "MONTH = \"10\"\n",
    "DAY = \"13\"\n",
    "HOUR = \"15\"\n",
    "MINUTE = \"00\"\n",
    "\n",
    "SLEEP = 5\n",
    "LIMIT = 200\n",
    "MAX_OFFSET = 10000\n",
    "\n",
    "OPENSEA_API_KEY = \"YOUR_API_KEY\"\n",
    "METHOD = \"raritytools\"\n",
    "TOKEN_COL = \"TOKEN_ID\""
   ]
  },
  {
   "cell_type": "code",
   "execution_count": 2,
   "id": "eef68f7a-4d72-4c3d-9ae1-240ab29b39c9",
   "metadata": {},
   "outputs": [
    {
     "name": "stdout",
     "output_type": "stream",
     "text": [
      "2021-10-13T15:00:00\n",
      "2021-10-13 15:00:00\n"
     ]
    }
   ],
   "source": [
    "\"\"\"\n",
    "@author: mdigi14\n",
    "\"\"\"\n",
    "\n",
    "import pandas as pd\n",
    "import matplotlib.pyplot as plt\n",
    "import datetime\n",
    "import time\n",
    "import requests\n",
    "\n",
    "REVEAL_TIME = \"{}-{}-{}T{}:{}:00\".format(YEAR, MONTH, DAY, HOUR, MINUTE)\n",
    "DATETIME_REVEAL_TIME = datetime.datetime.strptime(REVEAL_TIME, \"%Y-%m-%dT%H:%M:%S\")\n",
    "ETHER_UNITS = 1e18\n",
    "\n",
    "\n",
    "\"\"\"\n",
    "Plot params\n",
    "\"\"\"\n",
    "plt.rcParams.update({\"figure.facecolor\": \"white\", \"savefig.facecolor\": \"white\"})\n",
    "\n",
    "\"\"\"\n",
    "Helper Functions\n",
    "\"\"\"\n",
    "\n",
    "\n",
    "def getOpenseaEvents(contract, offset=0, occurred_before=REVEAL_TIME):\n",
    "    print(offset)\n",
    "    url = \"https://api.opensea.io/api/v1/events\"\n",
    "\n",
    "    querystring = {\n",
    "        \"asset_contract_address\": contract,\n",
    "        \"only_opensea\": \"false\",\n",
    "        \"offset\": str(offset),\n",
    "        \"limit\": LIMIT,\n",
    "        \"event_type\": \"bid_entered\",\n",
    "        \"occurred_before\": REVEAL_TIME,\n",
    "    }\n",
    "\n",
    "    headers = {\"Accept\": \"application/json\", \"X-API-KEY\": OPENSEA_API_KEY}\n",
    "\n",
    "    response = requests.request(\"GET\", url, headers=headers, params=querystring)\n",
    "    return response.json()"
   ]
  },
  {
   "cell_type": "code",
   "execution_count": 3,
   "id": "8446b713-6efa-41d0-ac1a-24f6df9ce311",
   "metadata": {},
   "outputs": [
    {
     "name": "stdout",
     "output_type": "stream",
     "text": [
      "0\n"
     ]
    },
    {
     "ename": "KeyError",
     "evalue": "'asset_events'",
     "output_type": "error",
     "traceback": [
      "\u001b[0;31m---------------------------------------------------------------------------\u001b[0m",
      "\u001b[0;31mKeyError\u001b[0m                                  Traceback (most recent call last)",
      "\u001b[0;32m/tmp/ipykernel_2058749/2686639278.py\u001b[0m in \u001b[0;36m<module>\u001b[0;34m\u001b[0m\n\u001b[1;32m      9\u001b[0m     \u001b[0mnew_events\u001b[0m \u001b[0;34m=\u001b[0m \u001b[0mgetOpenseaEvents\u001b[0m\u001b[0;34m(\u001b[0m\u001b[0mCONTRACT\u001b[0m\u001b[0;34m,\u001b[0m \u001b[0moffset\u001b[0m\u001b[0;34m=\u001b[0m\u001b[0moffset\u001b[0m\u001b[0;34m)\u001b[0m\u001b[0;34m\u001b[0m\u001b[0;34m\u001b[0m\u001b[0m\n\u001b[1;32m     10\u001b[0m \u001b[0;34m\u001b[0m\u001b[0m\n\u001b[0;32m---> 11\u001b[0;31m     \u001b[0;32mfor\u001b[0m \u001b[0mevent\u001b[0m \u001b[0;32min\u001b[0m \u001b[0mnew_events\u001b[0m\u001b[0;34m[\u001b[0m\u001b[0;34m\"asset_events\"\u001b[0m\u001b[0;34m]\u001b[0m\u001b[0;34m:\u001b[0m\u001b[0;34m\u001b[0m\u001b[0;34m\u001b[0m\u001b[0m\n\u001b[0m\u001b[1;32m     12\u001b[0m         \u001b[0mevents\u001b[0m\u001b[0;34m.\u001b[0m\u001b[0mappend\u001b[0m\u001b[0;34m(\u001b[0m\u001b[0mevent\u001b[0m\u001b[0;34m)\u001b[0m\u001b[0;34m\u001b[0m\u001b[0;34m\u001b[0m\u001b[0m\n\u001b[1;32m     13\u001b[0m     \u001b[0moffset\u001b[0m \u001b[0;34m+=\u001b[0m \u001b[0mLIMIT\u001b[0m\u001b[0;34m\u001b[0m\u001b[0;34m\u001b[0m\u001b[0m\n",
      "\u001b[0;31mKeyError\u001b[0m: 'asset_events'"
     ]
    }
   ],
   "source": [
    "RARITY_CSV = \"../metadata/rarity_data/{}_{}.csv\".format(COLLECTION, METHOD)\n",
    "RARITY_DB = pd.read_csv(RARITY_CSV)\n",
    "\n",
    "bids = []\n",
    "events = []\n",
    "\n",
    "offset = 0\n",
    "while offset < MAX_OFFSET:\n",
    "    new_events = getOpenseaEvents(CONTRACT, offset=offset)\n",
    "\n",
    "    for event in new_events[\"asset_events\"]:\n",
    "        events.append(event)\n",
    "    offset += LIMIT\n",
    "\n",
    "    if len(new_events[\"asset_events\"]) < LIMIT:\n",
    "        break\n",
    "\n",
    "print(\"total bids \", len(events))\n",
    "for event in events:\n",
    "    bid_time = datetime.datetime.strptime(event[\"created_date\"], \"%Y-%m-%dT%H:%M:%S.%f\")\n",
    "    if bid_time < DATETIME_REVEAL_TIME:\n",
    "\n",
    "        try:\n",
    "            tokenId = int(event[\"asset\"][TOKEN_COL])\n",
    "            bid = dict()\n",
    "            bid[TOKEN_COL] = tokenId\n",
    "            bid[\"USER\"] = event[\"from_account\"][\"address\"]\n",
    "            bid[\"OFFER\"] = float(event[\"bid_amount\"]) / ETHER_UNITS\n",
    "            bid[\"DATE\"] = event[\"created_date\"]\n",
    "            bid[\"RANK\"] = int(RARITY_DB[RARITY_DB[TOKEN_COL] == tokenId][\"Rank\"])\n",
    "            bids.append(bid)\n",
    "\n",
    "        except:\n",
    "            continue\n",
    "\n",
    "\n",
    "bidding_df = pd.DataFrame(bids)\n",
    "bidding_df.to_csv(\"pre-reveal_bids/{}_pre-reveal_bids.csv\".format(COLLECTION))\n",
    "\n",
    "\n",
    "ax = bidding_df.plot.scatter(\n",
    "    x=\"TOKEN_ID\",\n",
    "    y=\"RANK\",\n",
    "    alpha=0.25,\n",
    "    title=\"{} - {}\".format(COLLECTION, \"Pre-reveal Bids\"),\n",
    "    figsize=(14, 7),\n",
    ")\n",
    "ax.set_xlabel(\"Token ID\")\n",
    "ax.set_ylabel(\"Rarity Rank\")"
   ]
  }
 ],
 "metadata": {
  "kernelspec": {
   "display_name": "Python 3 (ipykernel)",
   "language": "python",
   "name": "python3"
  },
  "language_info": {
   "codemirror_mode": {
    "name": "ipython",
    "version": 3
   },
   "file_extension": ".py",
   "mimetype": "text/x-python",
   "name": "python",
   "nbconvert_exporter": "python",
   "pygments_lexer": "ipython3",
   "version": "3.9.7"
  }
 },
 "nbformat": 4,
 "nbformat_minor": 5
}
