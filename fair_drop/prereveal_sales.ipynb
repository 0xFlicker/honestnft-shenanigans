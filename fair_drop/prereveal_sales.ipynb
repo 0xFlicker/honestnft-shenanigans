{
 "cells": [
  {
   "cell_type": "code",
   "execution_count": 1,
   "id": "271cbbc3",
   "metadata": {
    "tags": [
     "parameters"
    ]
   },
   "outputs": [],
   "source": [
    "\"\"\"\n",
    "Update Parameters Here\n",
    "\"\"\"\n",
    "COLLECTION = \"MekaVerse\"\n",
    "CONTRACT = \"0x9A534628B4062E123cE7Ee2222ec20B86e16Ca8F\"\n",
    "YEAR = \"2021\"\n",
    "MONTH = \"10\"\n",
    "DAY = \"13\"\n",
    "HOUR = \"15\"\n",
    "MINUTE = \"00\"\n",
    "\n",
    "SLEEP = 2\n",
    "LIMIT = 200\n",
    "MAX_OFFSET = 10000\n",
    "SHOW_INDIVIDUAL_MAPS = False\n",
    "\n",
    "OPENSEA_API_KEY = \"YOUR_API_KEY\"\n",
    "METHOD = \"raritytools\"\n",
    "TOKEN_COL = \"TOKEN_ID\""
   ]
  },
  {
   "cell_type": "code",
   "execution_count": 2,
   "id": "aec0b7d5-9ee0-4536-b53a-acb2d1ba92a9",
   "metadata": {
    "tags": []
   },
   "outputs": [
    {
     "name": "stdout",
     "output_type": "stream",
     "text": [
      "2021-10-13T15:00:00\n"
     ]
    }
   ],
   "source": [
    "\"\"\"\n",
    "@author: mdigi14\n",
    "\"\"\"\n",
    "\n",
    "import requests\n",
    "import pandas as pd\n",
    "import matplotlib.pyplot as plt\n",
    "import datetime\n",
    "import time\n",
    "\n",
    "REVEAL_TIME = \"{}-{}-{}T{}:{}:00\".format(YEAR, MONTH, DAY, HOUR, MINUTE)\n",
    "ETHER_UNITS = 1e18\n",
    "URL = \"https://api.opensea.io/api/v1/events\"\n",
    "\n",
    "\"\"\"\n",
    "Plot params\n",
    "\"\"\"\n",
    "plt.rcParams.update({\"figure.facecolor\": \"white\", \"savefig.facecolor\": \"white\"})\n",
    "\n",
    "\"\"\"\n",
    "Helper Functions\n",
    "\"\"\"\n",
    "\n",
    "\n",
    "def getOpenseaEvents(contract, offset, before_time):\n",
    "    print(offset)\n",
    "    querystring = {\n",
    "        \"event_type\": \"successful\",\n",
    "        \"only_opensea\": \"false\",\n",
    "        \"offset\": offset,\n",
    "        \"limit\": \"200\",\n",
    "        \"asset_contract_address\": contract,\n",
    "        \"occurred_before\": before_time,\n",
    "    }\n",
    "\n",
    "    headers = {\"Accept\": \"application/json\", \"X-API-KEY\": OPENSEA_API_KEY}\n",
    "\n",
    "    response = requests.request(\"GET\", URL, headers=headers, params=querystring)\n",
    "    resJson = response.json()\n",
    "    return resJson\n",
    "\n",
    "\n",
    "def getMintEvents(contract, rarity_db):\n",
    "    offset = 0\n",
    "    data = getOpenseaEvents(contract, offset, REVEAL_TIME)\n",
    "    events = data[\"asset_events\"]\n",
    "    sales_list = []\n",
    "    before_time = REVEAL_TIME\n",
    "\n",
    "    while len(data[\"asset_events\"]) >= LIMIT and offset <= MAX_OFFSET:\n",
    "        if offset >= MAX_OFFSET:\n",
    "            old_before_time = events[-1][\"transaction\"][\"timestamp\"]\n",
    "            datetime_before_time = datetime.datetime.strptime(\n",
    "                old_before_time, \"%Y-%m-%dT%H:%M:%S\"\n",
    "            )\n",
    "            time_change = datetime.timedelta(minutes=TIME_DELTA)\n",
    "\n",
    "            new_time = datetime_before_time + time_change\n",
    "            before_time = new_time.strftime(\"%Y-%m-%dT%H:%M:%S\")\n",
    "            print(\"resetting offset from \", old_before_time, \" to \", new_time)\n",
    "            offset = 0\n",
    "        else:\n",
    "            offset = offset + LIMIT\n",
    "\n",
    "        time.sleep(SLEEP)\n",
    "        data = getOpenseaEvents(contract, offset, before_time)\n",
    "\n",
    "        for event in data[\"asset_events\"]:\n",
    "            if event[\"transaction\"] is not None:\n",
    "                events.append(event)\n",
    "            else:\n",
    "                print(\"fail tx\")\n",
    "\n",
    "    for event in events:\n",
    "        try:\n",
    "            tokenId = int(event[\"asset\"][TOKEN_COL])\n",
    "            sale = dict()\n",
    "            sale[TOKEN_COL] = tokenId\n",
    "            sale[\"USER\"] = event[\"transaction\"][\"from_account\"][\"address\"]\n",
    "            sale[\"DATE\"] = event[\"created_date\"]\n",
    "            sale[\"RANK\"] = int(RARITY_DB[RARITY_DB[TOKEN_COL] == tokenId][\"Rank\"])\n",
    "            sale[\"PRICE\"] = float(event[\"total_price\"]) / ETHER_UNITS\n",
    "            sales_list.append(sale)\n",
    "        except:\n",
    "            continue\n",
    "\n",
    "    return pd.DataFrame.from_dict(sales_list)"
   ]
  },
  {
   "cell_type": "code",
   "execution_count": 3,
   "id": "dd156ed4",
   "metadata": {},
   "outputs": [
    {
     "name": "stdout",
     "output_type": "stream",
     "text": [
      "2021-10-13T15:00:00\n",
      "0\n"
     ]
    },
    {
     "ename": "KeyError",
     "evalue": "'asset_events'",
     "output_type": "error",
     "traceback": [
      "\u001b[0;31m---------------------------------------------------------------------------\u001b[0m",
      "\u001b[0;31mKeyError\u001b[0m                                  Traceback (most recent call last)",
      "\u001b[0;32m/tmp/ipykernel_2082109/581170437.py\u001b[0m in \u001b[0;36m<module>\u001b[0;34m\u001b[0m\n\u001b[1;32m      8\u001b[0m \u001b[0;34m\u001b[0m\u001b[0m\n\u001b[1;32m      9\u001b[0m \u001b[0;34m\u001b[0m\u001b[0m\n\u001b[0;32m---> 10\u001b[0;31m \u001b[0msales_df\u001b[0m \u001b[0;34m=\u001b[0m \u001b[0mgetMintEvents\u001b[0m\u001b[0;34m(\u001b[0m\u001b[0mCONTRACT\u001b[0m\u001b[0;34m,\u001b[0m \u001b[0mRARITY_DB\u001b[0m\u001b[0;34m)\u001b[0m\u001b[0;34m\u001b[0m\u001b[0;34m\u001b[0m\u001b[0m\n\u001b[0m\u001b[1;32m     11\u001b[0m \u001b[0msales_df\u001b[0m \u001b[0;34m=\u001b[0m \u001b[0msales_df\u001b[0m\u001b[0;34m.\u001b[0m\u001b[0msort_values\u001b[0m\u001b[0;34m(\u001b[0m\u001b[0mby\u001b[0m\u001b[0;34m=\u001b[0m\u001b[0;34m\"RANK\"\u001b[0m\u001b[0;34m)\u001b[0m\u001b[0;34m\u001b[0m\u001b[0;34m\u001b[0m\u001b[0m\n\u001b[1;32m     12\u001b[0m \u001b[0msales_df\u001b[0m\u001b[0;34m.\u001b[0m\u001b[0mto_csv\u001b[0m\u001b[0;34m(\u001b[0m\u001b[0;34m\"pre-reveal_sales/{}_pre-reveal_sales.csv\"\u001b[0m\u001b[0;34m.\u001b[0m\u001b[0mformat\u001b[0m\u001b[0;34m(\u001b[0m\u001b[0mCOLLECTION\u001b[0m\u001b[0;34m)\u001b[0m\u001b[0;34m)\u001b[0m\u001b[0;34m\u001b[0m\u001b[0;34m\u001b[0m\u001b[0m\n",
      "\u001b[0;32m/tmp/ipykernel_2082109/3587825842.py\u001b[0m in \u001b[0;36mgetMintEvents\u001b[0;34m(contract, rarity_db)\u001b[0m\n\u001b[1;32m     46\u001b[0m     \u001b[0moffset\u001b[0m \u001b[0;34m=\u001b[0m \u001b[0;36m0\u001b[0m\u001b[0;34m\u001b[0m\u001b[0;34m\u001b[0m\u001b[0m\n\u001b[1;32m     47\u001b[0m     \u001b[0mdata\u001b[0m \u001b[0;34m=\u001b[0m \u001b[0mgetOpenseaEvents\u001b[0m\u001b[0;34m(\u001b[0m\u001b[0mcontract\u001b[0m\u001b[0;34m,\u001b[0m \u001b[0moffset\u001b[0m\u001b[0;34m,\u001b[0m \u001b[0mREVEAL_TIME\u001b[0m\u001b[0;34m)\u001b[0m\u001b[0;34m\u001b[0m\u001b[0;34m\u001b[0m\u001b[0m\n\u001b[0;32m---> 48\u001b[0;31m     \u001b[0mevents\u001b[0m \u001b[0;34m=\u001b[0m \u001b[0mdata\u001b[0m\u001b[0;34m[\u001b[0m\u001b[0;34m\"asset_events\"\u001b[0m\u001b[0;34m]\u001b[0m\u001b[0;34m\u001b[0m\u001b[0;34m\u001b[0m\u001b[0m\n\u001b[0m\u001b[1;32m     49\u001b[0m     \u001b[0msales_list\u001b[0m \u001b[0;34m=\u001b[0m \u001b[0;34m[\u001b[0m\u001b[0;34m]\u001b[0m\u001b[0;34m\u001b[0m\u001b[0;34m\u001b[0m\u001b[0m\n\u001b[1;32m     50\u001b[0m     \u001b[0mbefore_time\u001b[0m \u001b[0;34m=\u001b[0m \u001b[0mREVEAL_TIME\u001b[0m\u001b[0;34m\u001b[0m\u001b[0;34m\u001b[0m\u001b[0m\n",
      "\u001b[0;31mKeyError\u001b[0m: 'asset_events'"
     ]
    }
   ],
   "source": [
    "\"\"\"\n",
    "Generate Plot\n",
    "\"\"\"\n",
    "\n",
    "RARITY_CSV = \"../metadata/rarity_data/{}_{}.csv\".format(COLLECTION, METHOD)\n",
    "RARITY_DB = pd.read_csv(RARITY_CSV)\n",
    "\n",
    "\n",
    "sales_df = getMintEvents(CONTRACT, RARITY_DB)\n",
    "sales_df = sales_df.sort_values(by=\"RANK\")\n",
    "sales_df.to_csv(\"pre-reveal_sales/{}_pre-reveal_sales.csv\".format(COLLECTION))\n",
    "\n",
    "ax = sales_df.plot.scatter(\n",
    "    x=TOKEN_COL,\n",
    "    y=\"RANK\",\n",
    "    grid=True,\n",
    "    alpha=0.25,\n",
    "    title=\"{} - {}\".format(COLLECTION, \"Prereveal-Sales\"),\n",
    "    figsize=(14, 7),\n",
    ")\n",
    "ax.set_xlabel(\"Token ID\")\n",
    "ax.set_ylabel(\"Rarity Rank\")"
   ]
  }
 ],
 "metadata": {
  "kernelspec": {
   "display_name": "Python 3 (ipykernel)",
   "language": "python",
   "name": "python3"
  },
  "language_info": {
   "codemirror_mode": {
    "name": "ipython",
    "version": 3
   },
   "file_extension": ".py",
   "mimetype": "text/x-python",
   "name": "python",
   "nbconvert_exporter": "python",
   "pygments_lexer": "ipython3",
   "version": "3.9.7"
  }
 },
 "nbformat": 4,
 "nbformat_minor": 5
}
